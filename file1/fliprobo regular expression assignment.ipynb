{
 "cells": [
  {
   "cell_type": "markdown",
   "id": "d79cb117-407f-40ff-b02d-3efb481c8f8a",
   "metadata": {},
   "source": [
    "# Regular Expression"
   ]
  },
  {
   "cell_type": "raw",
   "id": "ad886554-b4e0-4665-8480-93f2ac1dcd84",
   "metadata": {},
   "source": [
    "Question 1- Write a Python program to replace all occurrences of a space, comma, or dot with a colon.\n",
    "Sample Text- 'Python Exercises, PHP exercises.'\n",
    "Expected Output: Python:Exercises::PHP:exercises:\n"
   ]
  },
  {
   "cell_type": "code",
   "execution_count": 4,
   "id": "4c75ed89-acfa-4c6e-94dd-7875a7b8bf77",
   "metadata": {},
   "outputs": [],
   "source": [
    "import regex as re\n",
    "import pandas as pd"
   ]
  },
  {
   "cell_type": "code",
   "execution_count": 5,
   "id": "a8a52692-f3e2-4ef7-a78a-60c4a96589e8",
   "metadata": {},
   "outputs": [
    {
     "name": "stdout",
     "output_type": "stream",
     "text": [
      "Python:Exercises::PHP:exercises:\n"
     ]
    }
   ],
   "source": [
    "string= 'Python Exercises, PHP exercises.'\n",
    "result= re.sub(r'[ ,.]',':', string)\n",
    "print(result)"
   ]
  },
  {
   "cell_type": "raw",
   "id": "67913550-5fed-4c1a-9f82-cffea3475c21",
   "metadata": {},
   "source": [
    "Question 2-  Create a dataframe using the dictionary below and remove everything (commas (,), !, XXXX, ;, etc.) from the columns except words.\n",
    "Dictionary- {'SUMMARY' : ['hello, world!', 'XXXXX test', '123four, five:; six...']}\n",
    "Expected output-\n",
    "0      hello world\n",
    "1             test\n",
    "2    four five six\n"
   ]
  },
  {
   "cell_type": "code",
   "execution_count": 6,
   "id": "3c840c7c-7bd2-454d-9e87-f8b3c809e2f0",
   "metadata": {},
   "outputs": [
    {
     "name": "stdout",
     "output_type": "stream",
     "text": [
      "<class 'dict'>\n",
      "                  SUMMARY\n",
      "0           hello, world!\n",
      "1              XXXXX test\n",
      "2  123four, five:; six...\n"
     ]
    }
   ],
   "source": [
    "Dictionary= {'SUMMARY' : ['hello, world!', 'XXXXX test', '123four, five:; six...']}\n",
    "print(type (Dictionary))\n",
    "df= pd.DataFrame(Dictionary)\n",
    "print(df)\n"
   ]
  },
  {
   "cell_type": "code",
   "execution_count": 7,
   "id": "94a41dd7-eefb-40b9-b97d-dd2f3cd6c540",
   "metadata": {},
   "outputs": [
    {
     "name": "stdout",
     "output_type": "stream",
     "text": [
      "            SUMMARY\n",
      "0       hello world\n",
      "1        XXXXX test\n",
      "2  123four five six\n"
     ]
    }
   ],
   "source": [
    "df['SUMMARY']= df['SUMMARY'].str.replace(r'[^\\w\\s]','',regex=True)\n",
    "print(df)"
   ]
  },
  {
   "cell_type": "raw",
   "id": "080bff94-6c31-438d-986d-e21eb93095f0",
   "metadata": {},
   "source": [
    "Question 3- Create a function in python to find all words that are at least 4 characters long in a string. The use of the re.compile() method is mandatory."
   ]
  },
  {
   "cell_type": "code",
   "execution_count": 10,
   "id": "8e868451-f415-4928-bc94-60bd6fdb2a7c",
   "metadata": {},
   "outputs": [
    {
     "name": "stdout",
     "output_type": "stream",
     "text": [
      "['Body', 'biggest', 'burden', 'woman', 'burden', 'safeguarding', 'body', 'takes', 'toll', 'does', 'feel', 'safe', 'inside', 'outside', 'house', 'Woman', 'best', 'creation', 'worst', 'sufferer']\n"
     ]
    }
   ],
   "source": [
    "\n",
    "def words(string):\n",
    "    pat=re.compile(r'\\b\\w{4,}\\b')\n",
    "    return pat.findall(string)\n",
    "\n",
    "string=\"Body is the biggest burden for a woman, the burden of safeguarding her body takes a toll. She does not feel safe inside or outside the house. Woman is God’s best creation, yet the worst sufferer. \"\n",
    "print(words(string))\n"
   ]
  },
  {
   "cell_type": "raw",
   "id": "87f4c34c-c7b6-4e5d-a0b3-47e05b290a28",
   "metadata": {},
   "source": [
    "Question 4- Create a function in python to find all three, four, and five character words in a string. The use of the re.compile() method is mandatory."
   ]
  },
  {
   "cell_type": "code",
   "execution_count": 12,
   "id": "ef74c362-e410-4581-b603-e1cc8ecfa678",
   "metadata": {},
   "outputs": [
    {
     "name": "stdout",
     "output_type": "stream",
     "text": [
      "['Body', 'the', 'for', 'woman', 'the', 'her', 'body', 'takes', 'toll', 'She', 'does', 'not', 'feel', 'safe', 'the', 'house', 'Woman', 'God', 'best', 'yet', 'the', 'worst']\n"
     ]
    }
   ],
   "source": [
    "\n",
    "def words(string):\n",
    "    pat=re.compile(r'\\b\\w{3,5}\\b')\n",
    "    return pat.findall(string)\n",
    "    \n",
    "string=\"Body is the biggest burden for a woman, the burden of safeguarding her body takes a toll. She does not feel safe inside or outside the house. Woman is God’s best creation, yet the worst sufferer. \"\n",
    "print(words(string))\n"
   ]
  },
  {
   "cell_type": "raw",
   "id": "d84496ca-7d15-4a8e-8d7c-78d1e55515cf",
   "metadata": {},
   "source": [
    "Question 5- Create a function in Python to remove the parenthesis in a list of strings. The use of the re.compile() method is mandatory.\n",
    "Sample Text: [\"example (.com)\", \"hr@fliprobo (.com)\", \"github (.com)\", \"Hello (Data Science World)\", \"Data (Scientist)\"]\n",
    "Expected Output:\n",
    "example.com\n",
    "hr@fliprobo.com\n",
    "github.com\n",
    "Hello Data Science World\n",
    "Data Scientist\n"
   ]
  },
  {
   "cell_type": "code",
   "execution_count": 44,
   "id": "4f3f6a12-196b-4419-8a26-121bdef68c46",
   "metadata": {},
   "outputs": [
    {
     "name": "stdout",
     "output_type": "stream",
     "text": [
      "['example.com', 'hr@fliprobo.com', 'github.com', 'HelloData Science World', 'DataScientist']\n"
     ]
    }
   ],
   "source": [
    "def rp(string):\n",
    "    pat=re.compile(r'\\s*\\(|\\)')\n",
    "    result=[]\n",
    "    for s in string:\n",
    "        newstring=pat.sub('',s)\n",
    "        result.append(newstring)\n",
    "    return result\n",
    "   \n",
    "\n",
    "string=[\"example (.com)\", \"hr@fliprobo (.com)\", \"github (.com)\", \"Hello (Data Science World)\", \"Data (Scientist)\"]\n",
    "print (rp(string))"
   ]
  },
  {
   "cell_type": "raw",
   "id": "d332629a-cf92-4a0e-b03e-84263e83e340",
   "metadata": {},
   "source": [
    "Question 6- Write a python program to remove the parenthesis area from the text stored in the text file using Regular Expression.\n",
    "Sample Text: [\"example (.com)\", \"hr@fliprobo (.com)\", \"github (.com)\", \"Hello (Data Science World)\", \"Data (Scientist)\"]\n",
    "Expected Output: [\"example\", \"hr@fliprobo\", \"github\", \"Hello\", \"Data\"]\n",
    "Note- Store given sample text in the text file and then to remove the parenthesis area from the text.\n"
   ]
  },
  {
   "cell_type": "raw",
   "id": "3697782d-0113-4dfb-adef-f59d6563d895",
   "metadata": {},
   "source": [
    "# unable to do program in text file "
   ]
  },
  {
   "cell_type": "code",
   "execution_count": 32,
   "id": "1ce46305-f9ef-4c67-beb3-8685d9f84f33",
   "metadata": {},
   "outputs": [
    {
     "name": "stdout",
     "output_type": "stream",
     "text": [
      "['example', 'hr@fliprobo', 'github', 'Hello', 'Data']\n"
     ]
    }
   ],
   "source": [
    "def rp(string):\n",
    "    pat=re.compile(r'\\s*\\([^)]*\\)')\n",
    "    result=[]\n",
    "    for s in string:\n",
    "        newstring=pat.sub('',s)\n",
    "        result.append(newstring)\n",
    "    return result\n",
    "   \n",
    "\n",
    "string=[\"example (.com)\", \"hr@fliprobo (.com)\", \"github (.com)\", \"Hello (Data Science World)\", \"Data (Scientist)\"]\n",
    "print (rp(string))"
   ]
  },
  {
   "cell_type": "raw",
   "id": "6e8c1bb4-ec17-486e-b065-815a13e5d94d",
   "metadata": {},
   "source": [
    "Question 7- Write a regular expression in Python to split a string into uppercase letters.\n",
    "Sample text: “ImportanceOfRegularExpressionsInPython”\n",
    "Expected Output: [‘Importance’, ‘Of’, ‘Regular’, ‘Expression’, ‘In’, ‘Python’]\n"
   ]
  },
  {
   "cell_type": "code",
   "execution_count": 56,
   "id": "ae3eb5ca-6203-45a1-9109-6d6718458d5b",
   "metadata": {},
   "outputs": [
    {
     "name": "stdout",
     "output_type": "stream",
     "text": [
      "['Importance', 'Of', 'Regular', 'Expressions', 'In', 'Python']\n"
     ]
    }
   ],
   "source": [
    "def splitpat(pat):\n",
    "    s= re.compile(r'[A-Z][a-z]+')\n",
    "    return s.findall(pat)\n",
    "\n",
    "pat= 'ImportanceOfRegularExpressionsInPython'\n",
    "print(splitpat(pat))"
   ]
  },
  {
   "cell_type": "raw",
   "id": "ec6653a3-137e-4f42-956d-29959fd518a3",
   "metadata": {},
   "source": [
    "Question 8- Create a function in python to insert spaces between words starting with numbers.\n",
    "Sample Text: “RegularExpression1IsAn2ImportantTopic3InPython\"\n",
    "Expected Output: RegularExpression 1IsAn 2ImportantTopic 3InPython\n"
   ]
  },
  {
   "cell_type": "code",
   "execution_count": 68,
   "id": "e397aec5-c4a0-47b9-826b-6cb310b7272b",
   "metadata": {},
   "outputs": [
    {
     "name": "stdout",
     "output_type": "stream",
     "text": [
      "RegularExpression1 IsAn2 ImportantTopic3 InPython\n"
     ]
    }
   ],
   "source": [
    "def space(text):\n",
    "    pattern = re.compile(r'(?=[A-Z])(?<=\\d)')\n",
    "    \n",
    "    return pattern.sub(' ',text)\n",
    "\n",
    "# Example usage\n",
    "text = \"RegularExpression1IsAn2ImportantTopic3InPython\"\n",
    "print(space(text))\n"
   ]
  },
  {
   "cell_type": "raw",
   "id": "3df3d1bf-e9f6-47a7-860d-6930aad154a6",
   "metadata": {},
   "source": [
    "Question 9- Create a function in python to insert spaces between words starting with capital letters or with numbers.\n",
    "Sample Text: “RegularExpression1IsAn2ImportantTopic3InPython\"\n",
    "Expected Output:  RegularExpression 1 IsAn 2 ImportantTopic 3 InPython\n"
   ]
  },
  {
   "cell_type": "code",
   "execution_count": 72,
   "id": "83c8d2fd-1033-4806-b0c4-c42423251e3b",
   "metadata": {},
   "outputs": [
    {
     "name": "stdout",
     "output_type": "stream",
     "text": [
      "RegularExpression1 IsAn2 ImportantTopic3 InPython\n"
     ]
    }
   ],
   "source": [
    "def space(text):\n",
    "    pattern = re.compile(r'(?<=\\d)(?=[A-Z][a-z])')\n",
    "    \n",
    "    return pattern.sub(' ',text)\n",
    "\n",
    "# Example usage\n",
    "text = \"RegularExpression1IsAn2ImportantTopic3InPython\"\n",
    "print(space(text))\n"
   ]
  },
  {
   "cell_type": "raw",
   "id": "95692692-1c64-42c1-a39e-57387dfc4b79",
   "metadata": {},
   "source": [
    "Question 10- Use the github link below to read the data and create a dataframe. After creating the dataframe extract the first 6 letters of each country and store in the dataframe under a new column called first_five_letters.\n",
    "Github Link-  https://raw.githubusercontent.com/dsrscientist/DSData/master/happiness_score_dataset.csv\n"
   ]
  },
  {
   "cell_type": "code",
   "execution_count": 78,
   "id": "a81a0a22-335a-46a7-bd9b-cfb976b39e5b",
   "metadata": {},
   "outputs": [
    {
     "name": "stdout",
     "output_type": "stream",
     "text": [
      "       Country first_five_letters\n",
      "0  Switzerland             Switze\n",
      "1      Iceland             Icelan\n",
      "2      Denmark             Denmar\n",
      "3       Norway             Norway\n",
      "4       Canada             Canada\n"
     ]
    }
   ],
   "source": [
    "url = \"https://raw.githubusercontent.com/dsrscientist/DSData/master/happiness_score_dataset.csv\"\n",
    "df = pd.read_csv(url)\n",
    "df['first_five_letters'] = df['Country'].str[:6]\n",
    "print(df[['Country', 'first_five_letters']].head())\n"
   ]
  },
  {
   "cell_type": "raw",
   "id": "938b14b3-4343-4b4f-bd3e-f42d8958de34",
   "metadata": {},
   "source": [
    "Question 11- Write a Python program to match a string that contains only upper and lowercase letters, numbers, and underscores."
   ]
  },
  {
   "cell_type": "code",
   "execution_count": 87,
   "id": "e0437ec6-55a9-47a2-af5d-fa57e81ac287",
   "metadata": {},
   "outputs": [
    {
     "name": "stdin",
     "output_type": "stream",
     "text": [
      "Enter a string to match:  ankita@gmail.com\n"
     ]
    },
    {
     "name": "stdout",
     "output_type": "stream",
     "text": [
      "'ankita@gmail.com' is an invalid string.\n"
     ]
    }
   ],
   "source": [
    "def match_string(string):\n",
    "    pattern = re.compile(r'^[A-Za-z0-9_]+$')\n",
    "    if pattern.fullmatch(text):\n",
    "        return True\n",
    "    else:\n",
    "        return False\n",
    "string = input(\"Enter a string to match: \")\n",
    "if match_string(string):\n",
    "    print(f\"'{string}' is a valid string.\")\n",
    "else:\n",
    "    print(f\"'{string}' is an invalid string.\")\n"
   ]
  },
  {
   "cell_type": "raw",
   "id": "fdf29d8c-a015-48a2-9714-2fa79c2a5398",
   "metadata": {},
   "source": [
    "Question 12- Write a Python program where a string will start with a specific number. "
   ]
  },
  {
   "cell_type": "code",
   "execution_count": 117,
   "id": "6024385a-fdc6-4084-bade-b1191664e913",
   "metadata": {},
   "outputs": [
    {
     "name": "stdout",
     "output_type": "stream",
     "text": [
      "The string starts with 12.\n"
     ]
    }
   ],
   "source": [
    "string = \"123abc45ghdcvbnm\"\n",
    "specific_number = \"12\"\n",
    "\n",
    "if string.startswith(specific_number):\n",
    "    print(f\"The string starts with {specific_number}.\")\n",
    "else:\n",
    "    print(f\"The string does not start with {specific_number}.\")\n"
   ]
  },
  {
   "cell_type": "raw",
   "id": "3140e040-769d-4faa-959d-fd8d104989f5",
   "metadata": {},
   "source": [
    "Question 13- Write a Python program to remove leading zeros from an IP address."
   ]
  },
  {
   "cell_type": "code",
   "execution_count": 139,
   "id": "757e0c42-f9d8-4b3d-8057-2c8ba43af954",
   "metadata": {},
   "outputs": [
    {
     "ename": "error",
     "evalue": "missing ), unterminated subpattern at position 0",
     "output_type": "error",
     "traceback": [
      "\u001b[1;31m---------------------------------------------------------------------------\u001b[0m",
      "\u001b[1;31merror\u001b[0m                                     Traceback (most recent call last)",
      "Cell \u001b[1;32mIn[139], line 2\u001b[0m\n\u001b[0;32m      1\u001b[0m ip_address \u001b[38;5;241m=\u001b[39m \u001b[38;5;124m\"\u001b[39m\u001b[38;5;124m192.068.001.010\u001b[39m\u001b[38;5;124m\"\u001b[39m\n\u001b[1;32m----> 2\u001b[0m new_ip_address \u001b[38;5;241m=\u001b[39m re\u001b[38;5;241m.\u001b[39msub(\u001b[38;5;124mr\u001b[39m\u001b[38;5;124m'\u001b[39m\u001b[38;5;124m(\u001b[39m\u001b[38;5;124m\\\u001b[39m\u001b[38;5;124m.[0]\u001b[39m\u001b[38;5;124m'\u001b[39m,\u001b[38;5;124m'\u001b[39m\u001b[38;5;124m.\u001b[39m\u001b[38;5;124m'\u001b[39m,ip_address)\n\u001b[0;32m      3\u001b[0m \u001b[38;5;28mprint\u001b[39m(\u001b[38;5;124mf\u001b[39m\u001b[38;5;124m\"\u001b[39m\u001b[38;5;124mThe IP address without leading zeros is: \u001b[39m\u001b[38;5;132;01m{\u001b[39;00mnew_ip_address\u001b[38;5;132;01m}\u001b[39;00m\u001b[38;5;124m\"\u001b[39m)\n",
      "File \u001b[1;32m~\\anaconda3\\Lib\\re\\__init__.py:186\u001b[0m, in \u001b[0;36msub\u001b[1;34m(pattern, repl, string, count, flags)\u001b[0m\n\u001b[0;32m    179\u001b[0m \u001b[38;5;28;01mdef\u001b[39;00m \u001b[38;5;21msub\u001b[39m(pattern, repl, string, count\u001b[38;5;241m=\u001b[39m\u001b[38;5;241m0\u001b[39m, flags\u001b[38;5;241m=\u001b[39m\u001b[38;5;241m0\u001b[39m):\n\u001b[0;32m    180\u001b[0m \u001b[38;5;250m    \u001b[39m\u001b[38;5;124;03m\"\"\"Return the string obtained by replacing the leftmost\u001b[39;00m\n\u001b[0;32m    181\u001b[0m \u001b[38;5;124;03m    non-overlapping occurrences of the pattern in string by the\u001b[39;00m\n\u001b[0;32m    182\u001b[0m \u001b[38;5;124;03m    replacement repl.  repl can be either a string or a callable;\u001b[39;00m\n\u001b[0;32m    183\u001b[0m \u001b[38;5;124;03m    if a string, backslash escapes in it are processed.  If it is\u001b[39;00m\n\u001b[0;32m    184\u001b[0m \u001b[38;5;124;03m    a callable, it's passed the Match object and must return\u001b[39;00m\n\u001b[0;32m    185\u001b[0m \u001b[38;5;124;03m    a replacement string to be used.\"\"\"\u001b[39;00m\n\u001b[1;32m--> 186\u001b[0m     \u001b[38;5;28;01mreturn\u001b[39;00m _compile(pattern, flags)\u001b[38;5;241m.\u001b[39msub(repl, string, count)\n",
      "File \u001b[1;32m~\\anaconda3\\Lib\\re\\__init__.py:307\u001b[0m, in \u001b[0;36m_compile\u001b[1;34m(pattern, flags)\u001b[0m\n\u001b[0;32m    301\u001b[0m     \u001b[38;5;28;01mimport\u001b[39;00m \u001b[38;5;21;01mwarnings\u001b[39;00m\n\u001b[0;32m    302\u001b[0m     warnings\u001b[38;5;241m.\u001b[39mwarn(\u001b[38;5;124m\"\u001b[39m\u001b[38;5;124mThe re.TEMPLATE/re.T flag is deprecated \u001b[39m\u001b[38;5;124m\"\u001b[39m\n\u001b[0;32m    303\u001b[0m             \u001b[38;5;124m\"\u001b[39m\u001b[38;5;124mas it is an undocumented flag \u001b[39m\u001b[38;5;124m\"\u001b[39m\n\u001b[0;32m    304\u001b[0m             \u001b[38;5;124m\"\u001b[39m\u001b[38;5;124mwithout an obvious purpose. \u001b[39m\u001b[38;5;124m\"\u001b[39m\n\u001b[0;32m    305\u001b[0m             \u001b[38;5;124m\"\u001b[39m\u001b[38;5;124mDon\u001b[39m\u001b[38;5;124m'\u001b[39m\u001b[38;5;124mt use it.\u001b[39m\u001b[38;5;124m\"\u001b[39m,\n\u001b[0;32m    306\u001b[0m             \u001b[38;5;167;01mDeprecationWarning\u001b[39;00m)\n\u001b[1;32m--> 307\u001b[0m p \u001b[38;5;241m=\u001b[39m _compiler\u001b[38;5;241m.\u001b[39mcompile(pattern, flags)\n\u001b[0;32m    308\u001b[0m \u001b[38;5;28;01mif\u001b[39;00m flags \u001b[38;5;241m&\u001b[39m DEBUG:\n\u001b[0;32m    309\u001b[0m     \u001b[38;5;28;01mreturn\u001b[39;00m p\n",
      "File \u001b[1;32m~\\anaconda3\\Lib\\re\\_compiler.py:745\u001b[0m, in \u001b[0;36mcompile\u001b[1;34m(p, flags)\u001b[0m\n\u001b[0;32m    743\u001b[0m \u001b[38;5;28;01mif\u001b[39;00m isstring(p):\n\u001b[0;32m    744\u001b[0m     pattern \u001b[38;5;241m=\u001b[39m p\n\u001b[1;32m--> 745\u001b[0m     p \u001b[38;5;241m=\u001b[39m _parser\u001b[38;5;241m.\u001b[39mparse(p, flags)\n\u001b[0;32m    746\u001b[0m \u001b[38;5;28;01melse\u001b[39;00m:\n\u001b[0;32m    747\u001b[0m     pattern \u001b[38;5;241m=\u001b[39m \u001b[38;5;28;01mNone\u001b[39;00m\n",
      "File \u001b[1;32m~\\anaconda3\\Lib\\re\\_parser.py:979\u001b[0m, in \u001b[0;36mparse\u001b[1;34m(str, flags, state)\u001b[0m\n\u001b[0;32m    976\u001b[0m state\u001b[38;5;241m.\u001b[39mflags \u001b[38;5;241m=\u001b[39m flags\n\u001b[0;32m    977\u001b[0m state\u001b[38;5;241m.\u001b[39mstr \u001b[38;5;241m=\u001b[39m \u001b[38;5;28mstr\u001b[39m\n\u001b[1;32m--> 979\u001b[0m p \u001b[38;5;241m=\u001b[39m _parse_sub(source, state, flags \u001b[38;5;241m&\u001b[39m SRE_FLAG_VERBOSE, \u001b[38;5;241m0\u001b[39m)\n\u001b[0;32m    980\u001b[0m p\u001b[38;5;241m.\u001b[39mstate\u001b[38;5;241m.\u001b[39mflags \u001b[38;5;241m=\u001b[39m fix_flags(\u001b[38;5;28mstr\u001b[39m, p\u001b[38;5;241m.\u001b[39mstate\u001b[38;5;241m.\u001b[39mflags)\n\u001b[0;32m    982\u001b[0m \u001b[38;5;28;01mif\u001b[39;00m source\u001b[38;5;241m.\u001b[39mnext \u001b[38;5;129;01mis\u001b[39;00m \u001b[38;5;129;01mnot\u001b[39;00m \u001b[38;5;28;01mNone\u001b[39;00m:\n",
      "File \u001b[1;32m~\\anaconda3\\Lib\\re\\_parser.py:460\u001b[0m, in \u001b[0;36m_parse_sub\u001b[1;34m(source, state, verbose, nested)\u001b[0m\n\u001b[0;32m    458\u001b[0m start \u001b[38;5;241m=\u001b[39m source\u001b[38;5;241m.\u001b[39mtell()\n\u001b[0;32m    459\u001b[0m \u001b[38;5;28;01mwhile\u001b[39;00m \u001b[38;5;28;01mTrue\u001b[39;00m:\n\u001b[1;32m--> 460\u001b[0m     itemsappend(_parse(source, state, verbose, nested \u001b[38;5;241m+\u001b[39m \u001b[38;5;241m1\u001b[39m,\n\u001b[0;32m    461\u001b[0m                        \u001b[38;5;129;01mnot\u001b[39;00m nested \u001b[38;5;129;01mand\u001b[39;00m \u001b[38;5;129;01mnot\u001b[39;00m items))\n\u001b[0;32m    462\u001b[0m     \u001b[38;5;28;01mif\u001b[39;00m \u001b[38;5;129;01mnot\u001b[39;00m sourcematch(\u001b[38;5;124m\"\u001b[39m\u001b[38;5;124m|\u001b[39m\u001b[38;5;124m\"\u001b[39m):\n\u001b[0;32m    463\u001b[0m         \u001b[38;5;28;01mbreak\u001b[39;00m\n",
      "File \u001b[1;32m~\\anaconda3\\Lib\\re\\_parser.py:864\u001b[0m, in \u001b[0;36m_parse\u001b[1;34m(source, state, verbose, nested, first)\u001b[0m\n\u001b[0;32m    862\u001b[0m p \u001b[38;5;241m=\u001b[39m _parse_sub(source, state, sub_verbose, nested \u001b[38;5;241m+\u001b[39m \u001b[38;5;241m1\u001b[39m)\n\u001b[0;32m    863\u001b[0m \u001b[38;5;28;01mif\u001b[39;00m \u001b[38;5;129;01mnot\u001b[39;00m source\u001b[38;5;241m.\u001b[39mmatch(\u001b[38;5;124m\"\u001b[39m\u001b[38;5;124m)\u001b[39m\u001b[38;5;124m\"\u001b[39m):\n\u001b[1;32m--> 864\u001b[0m     \u001b[38;5;28;01mraise\u001b[39;00m source\u001b[38;5;241m.\u001b[39merror(\u001b[38;5;124m\"\u001b[39m\u001b[38;5;124mmissing ), unterminated subpattern\u001b[39m\u001b[38;5;124m\"\u001b[39m,\n\u001b[0;32m    865\u001b[0m                        source\u001b[38;5;241m.\u001b[39mtell() \u001b[38;5;241m-\u001b[39m start)\n\u001b[0;32m    866\u001b[0m \u001b[38;5;28;01mif\u001b[39;00m group \u001b[38;5;129;01mis\u001b[39;00m \u001b[38;5;129;01mnot\u001b[39;00m \u001b[38;5;28;01mNone\u001b[39;00m:\n\u001b[0;32m    867\u001b[0m     state\u001b[38;5;241m.\u001b[39mclosegroup(group, p)\n",
      "\u001b[1;31merror\u001b[0m: missing ), unterminated subpattern at position 0"
     ]
    }
   ],
   "source": [
    "ip_address = \"192.068.001.010\"\n",
    "new_ip_address = re.sub(r'(\\.[0]','.',ip_address)\n",
    "print(f\"The IP address without leading zeros is: {new_ip_address}\")\n"
   ]
  },
  {
   "cell_type": "raw",
   "id": "64c4f2dc-2df3-4b1a-a711-c947904c113f",
   "metadata": {},
   "source": [
    "Question 14- Write a regular expression in python to match a date string in the form of Month name followed by day number and year stored in a text file.\n",
    "Sample text :  ' On August 15th 1947 that India was declared independent from British colonialism, and the reins of control were handed over to the leaders of the Country’.\n",
    "Expected Output- August 15th 1947\n",
    "Note- Store given sample text in the text file and then extract the date string asked format\n"
   ]
  },
  {
   "cell_type": "code",
   "execution_count": 141,
   "id": "109f5361-e94b-406e-bcbf-dddb19f98751",
   "metadata": {},
   "outputs": [
    {
     "name": "stdout",
     "output_type": "stream",
     "text": [
      "Extracted date: August 15th 1947\n"
     ]
    }
   ],
   "source": [
    "#for this I made a text file and wrote the above line in the file\n",
    "with open('sample.txt', 'r') as file:\n",
    "    text = file.read()\n",
    "\n",
    "pattern = r'\\b[A-Za-z]+ \\d{1,2}(?:st|nd|rd|th)? \\d{4}\\b'\n",
    "matches = re.findall(pattern, text)\n",
    "for match in matches:\n",
    "    print(f\"Extracted date: {match}\")\n"
   ]
  },
  {
   "cell_type": "raw",
   "id": "6b0aaa65-3ff4-450c-aec8-cea9ba24b59a",
   "metadata": {},
   "source": [
    "Question 15- Write a Python program to search some literals strings in a string. \n",
    "Sample text : 'The quick brown fox jumps over the lazy dog.'\n",
    "Searched words : 'fox', 'dog', 'horse'\n"
   ]
  },
  {
   "cell_type": "code",
   "execution_count": 143,
   "id": "28c34dbb-f372-4498-90ff-c55f614d351f",
   "metadata": {},
   "outputs": [
    {
     "name": "stdout",
     "output_type": "stream",
     "text": [
      "'fox' is found in the text.\n",
      "'dog' is found in the text.\n",
      "'horse' is not found in the text.\n"
     ]
    }
   ],
   "source": [
    "text = 'The quick brown fox jumps over the lazy dog.'\n",
    "words_to_search = ['fox', 'dog', 'horse']\n",
    "\n",
    "for word in words_to_search:\n",
    "    pattern = r'\\b' + re.escape(word) + r'\\b'\n",
    "    if re.search(pattern, text):\n",
    "        print(f\"'{word}' is found in the text.\")\n",
    "    else:\n",
    "        print(f\"'{word}' is not found in the text.\")\n"
   ]
  },
  {
   "cell_type": "code",
   "execution_count": null,
   "id": "863eb2ee-682c-4bd5-a908-7a546d87b75a",
   "metadata": {},
   "outputs": [],
   "source": [
    "Question 16- Write a Python program to search a literals string in a string and also find the location within the original string where the pattern occurs\n",
    "Sample text : 'The quick brown fox jumps over the lazy dog.'\n",
    "Searched words : 'fox'\n"
   ]
  },
  {
   "cell_type": "raw",
   "id": "9b05894e-91bd-4e4f-aef5-d3ed0f5052af",
   "metadata": {},
   "source": [
    "text = 'The quick brown fox jumps over the lazy dog.'\n",
    "word = 'fox'\n",
    "pattern = re.escape(word)\n",
    "\n",
    "matches = list(re.finditer(pattern, text))\n",
    "\n",
    "if matches:\n",
    "    for match in matches:\n",
    "        print(f\"'{word}' is found at index {match.start()}.\")\n",
    "else:\n",
    "    print(f\"'{word}' is not found in the text.\")\n"
   ]
  },
  {
   "cell_type": "raw",
   "id": "3a655077-c6d9-4d14-808a-33b7434351b0",
   "metadata": {},
   "source": [
    "Question 17- Write a Python program to find the substrings within a string.\n",
    "Sample text : 'Python exercises, PHP exercises, C# exercises'\n",
    "Pattern : 'exercises'.\n"
   ]
  },
  {
   "cell_type": "code",
   "execution_count": 155,
   "id": "5835790a-fe6c-45a4-958d-32ed65cf7c8c",
   "metadata": {},
   "outputs": [
    {
     "name": "stdout",
     "output_type": "stream",
     "text": [
      "Positions of 'exercises' in the text: [7, 22, 36]\n"
     ]
    }
   ],
   "source": [
    "text = 'Python exercises, PHP exercises, C# exercises'\n",
    "pattern = 'exercises'\n",
    "matches = re.finditer(pattern, text)\n",
    "positions = [match.start() for match in matches]\n",
    "print(f\"Positions of '{pattern}' in the text: {positions}\")\n"
   ]
  },
  {
   "cell_type": "raw",
   "id": "3956ac4c-498a-426d-8370-3d2219f753fa",
   "metadata": {},
   "source": [
    "Question 18- Write a Python program to find the occurrence and position of the substrings within a string."
   ]
  },
  {
   "cell_type": "code",
   "execution_count": 159,
   "id": "8fde71e4-7255-4abb-a9b5-3f467be55c37",
   "metadata": {},
   "outputs": [
    {
     "name": "stdout",
     "output_type": "stream",
     "text": [
      "Occurrences of 'exercises': 3\n",
      "Positions of 'exercises' in the text: [7, 22, 36]\n"
     ]
    }
   ],
   "source": [
    "text = 'Python exercises, PHP exercises, C# exercises'\n",
    "substring = 'exercises'\n",
    "matches = re.finditer(re.escape(substring), text)\n",
    "count = 0\n",
    "positions = []\n",
    "\n",
    "for match in matches:\n",
    "    positions.append(match.start())\n",
    "    count += 1\n",
    "\n",
    "print(f\"Occurrences of '{substring}': {count}\")\n",
    "print(f\"Positions of '{substring}' in the text: {positions}\")\n"
   ]
  },
  {
   "cell_type": "raw",
   "id": "a4a70883-429d-44c9-9755-e4c67c8b38b6",
   "metadata": {},
   "source": [
    "Question 19- Write a Python program to convert a date of yyyy-mm-dd format to dd-mm-yyyy format."
   ]
  },
  {
   "cell_type": "code",
   "execution_count": 163,
   "id": "165d6b14-bfa9-416b-800d-6cbfad77ded7",
   "metadata": {},
   "outputs": [
    {
     "name": "stdout",
     "output_type": "stream",
     "text": [
      "Converted date: 24-08-2024\n"
     ]
    }
   ],
   "source": [
    "from datetime import datetime\n",
    "date_str = '2024-08-24'\n",
    "date_obj = datetime.strptime(date_str, '%Y-%m-%d')\n",
    "formatted_date = date_obj.strftime('%d-%m-%Y')\n",
    "print(f\"Converted date: {formatted_date}\")\n"
   ]
  },
  {
   "cell_type": "raw",
   "id": "59d40778-9702-4cba-ac82-6f6bfb516161",
   "metadata": {},
   "source": [
    "Question 20- Create a function in python to find all decimal numbers with a precision of 1 or 2 in a string. The use of the re.compile() method is mandatory.\n",
    "Sample Text: \"01.12 0132.123 2.31875 145.8 3.01 27.25 0.25\"\n",
    "Expected Output: ['01.12', '145.8', '3.01', '27.25', '0.25']\n"
   ]
  },
  {
   "cell_type": "code",
   "execution_count": 173,
   "id": "c7e9f0c4-cafa-4405-8bf5-0768836e42f6",
   "metadata": {},
   "outputs": [
    {
     "name": "stdout",
     "output_type": "stream",
     "text": [
      "['01.12', '145.8', '3.01', '27.25', '0.25']\n"
     ]
    }
   ],
   "source": [
    "def decimal(text):\n",
    "    pattern = re.compile(r'\\b\\d+\\.\\d{1,2}\\b')\n",
    "    matches = pattern.findall(text)\n",
    "    return matches\n",
    "text = \"01.12 0132.123 2.31875 145.8 3.01 27.25 0.25\"\n",
    "\n",
    "result = decimal(text)\n",
    "print(result)\n"
   ]
  },
  {
   "cell_type": "raw",
   "id": "bd498eb7-6aac-4209-b81b-813accc4c798",
   "metadata": {},
   "source": [
    "Question 21- Write a Python program to separate and print the numbers and their position of a given string."
   ]
  },
  {
   "cell_type": "code",
   "execution_count": 183,
   "id": "e444caed-ba27-45c3-9979-e9ec20679779",
   "metadata": {},
   "outputs": [
    {
     "name": "stdout",
     "output_type": "stream",
     "text": [
      "Number: 2.4, Position: 10\n",
      "Number: 3.289, Position: 43\n",
      "Number: 4.6, Position: 68\n"
     ]
    }
   ],
   "source": [
    "def noandposition(text):\n",
    "   pattern = re.compile(r'\\d+(\\.\\d+)?')\n",
    "   matches = pattern.finditer(text)\n",
    "    \n",
    "   for match in matches:\n",
    "        number = match.group()\n",
    "        position = match.start()\n",
    "        print(f\"Number: {number}, Position: {position}\")\n",
    "\n",
    "text = \"There are 2.4 million population in japan. 3.289 million in germany.4.6 million in france\"\n",
    "noandposition(text)\n"
   ]
  },
  {
   "cell_type": "raw",
   "id": "ebe563da-078a-4e5b-9890-2e2f0b8e704f",
   "metadata": {},
   "source": [
    "Question 22- Write a regular expression in python program to extract maximum/largest numeric value from a string.\r\n",
    "Sample Text:  'My marks in each semester are: 947, 896, 926, 524, 734, 950, 642'\r\n",
    "Expected Output: 950\r\n"
   ]
  },
  {
   "cell_type": "code",
   "execution_count": 187,
   "id": "cd32ab87-3cfc-4599-8c58-95fa921b299c",
   "metadata": {},
   "outputs": [
    {
     "name": "stdout",
     "output_type": "stream",
     "text": [
      "950\n"
     ]
    }
   ],
   "source": [
    "def max_value(text):\n",
    "    pattern = re.compile(r'\\d+')\n",
    "    numbers = [int(num) for num in pattern.findall(text)]\n",
    "    return max(numbers)\n",
    "\n",
    "text = 'My marks in each semester are: 947, 896, 926, 524, 734, 950, 642'\n",
    "result = max_value(text)\n",
    "print(result)\n"
   ]
  },
  {
   "cell_type": "raw",
   "id": "aeefcbf7-c1cf-4e6c-8a29-3da66b09bf8f",
   "metadata": {},
   "source": [
    "Question 23- Create a function in python to insert spaces between words starting with capital letters.\n",
    "Sample Text: “RegularExpressionIsAnImportantTopicInPython\"\n",
    "Expected Output: Regular Expression Is An Important Topic In Python\n"
   ]
  },
  {
   "cell_type": "code",
   "execution_count": 191,
   "id": "7aa0efac-a3ff-4a4d-94f7-68ce482fc19b",
   "metadata": {},
   "outputs": [
    {
     "name": "stdout",
     "output_type": "stream",
     "text": [
      "Regular Expression Is An Important Topic In Python\n"
     ]
    }
   ],
   "source": [
    "def insert_spaces(text):\n",
    "    pattern = re.compile(r'[A-Z][a-z]*')\n",
    "    spaced_text = ' '.join(pattern.findall(text))\n",
    "    return spaced_text\n",
    "\n",
    "text = \"RegularExpressionIsAnImportantTopicInPython\"\n",
    "\n",
    "result = insert_spaces(text)\n",
    "print(result)\n"
   ]
  },
  {
   "cell_type": "raw",
   "id": "5b1e472f-c73b-425c-b06d-24884aa03440",
   "metadata": {},
   "source": [
    "Question 24- Python regex to find sequences of one upper case letter followed by lower case letters"
   ]
  },
  {
   "cell_type": "code",
   "execution_count": 197,
   "id": "956b7622-4358-4aa1-9b06-51d67315d2b9",
   "metadata": {},
   "outputs": [
    {
     "name": "stdout",
     "output_type": "stream",
     "text": [
      "['Python', 'Regex', 'To', 'Find', 'Sequences', 'Of', 'One', 'Uppercase', 'Letter', 'Followed', 'By', 'Lowercase', 'Letters']\n"
     ]
    }
   ],
   "source": [
    "def uppercase_sequences(text):\n",
    "    pattern = re.compile(r'[A-Z][a-z]+')\n",
    "    matches = pattern.finditer(text)\n",
    "    sequences = [match.group() for match in matches]\n",
    "    return sequences\n",
    "\n",
    "text = \"Python Regex To Find Sequences Of One Uppercase Letter Followed By Lowercase Letters.\"\n",
    "\n",
    "result = uppercase_sequences(text)\n",
    "print(result)\n"
   ]
  },
  {
   "cell_type": "raw",
   "id": "f7ce29a3-ff83-47a2-bbc0-bdf900c7a7a2",
   "metadata": {},
   "source": [
    "Question 25- Write a Python program to remove continuous duplicate words from Sentence using Regular Expression.\n",
    "Sample Text: \"Hello hello world world\"\n",
    "Expected Output: Hello hello world\n"
   ]
  },
  {
   "cell_type": "code",
   "execution_count": 205,
   "id": "2d04b4a9-2d5c-4308-b9f9-2fa51c9641e1",
   "metadata": {},
   "outputs": [
    {
     "name": "stdout",
     "output_type": "stream",
     "text": [
      "Hello hello world\n"
     ]
    }
   ],
   "source": [
    "def remove_continuous_duplicates(sentence):\n",
    "    series = pd.Series([sentence])\n",
    "    result = series.str.replace(r'\\b(\\w+)\\b\\s+\\b\\1\\b', r'\\1', case=True, regex=True)\n",
    "    return result[0]\n",
    "\n",
    "text = \"Hello hello world world\"\n",
    "result = remove_continuous_duplicates(text)\n",
    "print(result)\n"
   ]
  },
  {
   "cell_type": "raw",
   "id": "952cab87-76da-49c2-aaae-84928572bcf0",
   "metadata": {},
   "source": [
    "Question 26-  Write a python program using RegEx to accept string ending with alphanumeric character."
   ]
  },
  {
   "cell_type": "code",
   "execution_count": 215,
   "id": "7a7cacce-56c7-4d2a-81d9-d9cf4280fd3f",
   "metadata": {},
   "outputs": [
    {
     "name": "stdout",
     "output_type": "stream",
     "text": [
      "0     True\n",
      "1    False\n",
      "2     True\n",
      "3    False\n",
      "dtype: bool\n"
     ]
    }
   ],
   "source": [
    "def alphanumeric(series):\n",
    "    return series.str.match(r'.*[a-zA-Z0-9]$')\n",
    "\n",
    "series = pd.Series([\"Hello123\", \"World!\", \"Python3\", \"NoMatch.\"])\n",
    "\n",
    "result = alphanumeric(series)\n",
    "print(result)\n"
   ]
  },
  {
   "cell_type": "raw",
   "id": "c56d0c3f-d959-4c4b-9937-65ae5a4049a3",
   "metadata": {},
   "source": [
    "Question 27-Write a python program using RegEx to extract the hashtags.\n",
    "Sample Text:  \"\"\"RT @kapil_kausik: #Doltiwal I mean #xyzabc is \"hurt\" by #Demonetization as the same has rendered USELESS <ed><U+00A0><U+00BD><ed><U+00B1><U+0089> \"acquired funds\" No wo\"\"\"\n",
    "Expected Output: ['#Doltiwal', '#xyzabc', '#Demonetization']\n"
   ]
  },
  {
   "cell_type": "code",
   "execution_count": 219,
   "id": "ba804d9c-b16a-4bd7-8d24-6c23807c6ce2",
   "metadata": {},
   "outputs": [
    {
     "name": "stdout",
     "output_type": "stream",
     "text": [
      "['#Doltiwal', '#xyzabc', '#Demonetization']\n"
     ]
    }
   ],
   "source": [
    "def extract_hashtags(series):\n",
    "    return series.str.findall(r'#\\w+')\n",
    "\n",
    "series = pd.Series([\n",
    "    \"\"\"RT @kapil_kausik: #Doltiwal I mean #xyzabc is \"hurt\" by #Demonetization as the same has rendered USELESS <ed><U+00A0><U+00BD><ed><U+00B1><U+0089> \"acquired funds\" No wo\"\"\"\n",
    "])\n",
    "\n",
    "result = extract_hashtags(series)\n",
    "print(result[0])\n"
   ]
  },
  {
   "cell_type": "raw",
   "id": "8ba5e0f7-697a-49aa-a92d-f7a2a1b64bc9",
   "metadata": {},
   "source": [
    "Question 28- Write a python program using RegEx to remove <U+..> like symbols\n",
    "Check the below sample text, there are strange symbols something of the sort <U+..> all over the place. You need to come up with a general Regex expression that will cover all such symbols.\n",
    "Sample Text: \"@Jags123456 Bharat band on 28??<ed><U+00A0><U+00BD><ed><U+00B8><U+0082>Those who  are protesting #demonetization  are all different party leaders\"\n",
    "Expected Output: @Jags123456 Bharat band on 28??<ed><ed>Those who  are protesting #demonetization  are all different party leaders\n"
   ]
  },
  {
   "cell_type": "code",
   "execution_count": 221,
   "id": "852ad144-75d2-4deb-ba77-46da84441376",
   "metadata": {},
   "outputs": [
    {
     "name": "stdout",
     "output_type": "stream",
     "text": [
      "@Jags123456 Bharat band on 28??<ed><ed>Those who are protesting #demonetization are all different party leaders\n"
     ]
    }
   ],
   "source": [
    "def remove_symbols(series):\n",
    "    return series.str.replace(r'<U\\+\\w{4}>', '', regex=True)\n",
    "\n",
    "series = pd.Series([\n",
    "    \"@Jags123456 Bharat band on 28??<ed><U+00A0><U+00BD><ed><U+00B8><U+0082>Those who are protesting #demonetization are all different party leaders\"\n",
    "])\n",
    "\n",
    "# Call the function and print the result\n",
    "result = remove_u_symbols(series)\n",
    "print(result[0])\n"
   ]
  },
  {
   "cell_type": "raw",
   "id": "f18a0b6f-e19e-4fdb-96d8-5dfa769f34ed",
   "metadata": {},
   "source": [
    "Question 29- Write a python program to extract dates from the text stored in the text file.\n",
    "Sample Text: Ron was born on 12-09-1992 and he was admitted to school 15-12-1999.\n",
    "Note- Store this sample text in the file and then extract dates.\n"
   ]
  },
  {
   "cell_type": "code",
   "execution_count": 225,
   "id": "0b3bb08a-9729-4cb8-9e0c-371f6e64fcbe",
   "metadata": {},
   "outputs": [
    {
     "name": "stdout",
     "output_type": "stream",
     "text": [
      "['12-09-1992', '15-12-1999']\n"
     ]
    }
   ],
   "source": [
    "def extract_dates_from_file(file_path):\n",
    "    series = pd.Series(open(file_path).read())\n",
    "    dates = series.str.findall(r'\\b\\d{2}-\\d{2}-\\d{4}\\b')\n",
    "    return dates[0]\n",
    "\n",
    "#  sample_text file formation and writing the text\n",
    "with open('sample_text.txt', 'w') as f:\n",
    "    f.write(\"Ron was born on 12-09-1992 and he was admitted to school 15-12-1999.\")\n",
    "    \n",
    "result = extract_dates_from_file('sample_text.txt')\n",
    "print(result)\n"
   ]
  },
  {
   "cell_type": "raw",
   "id": "15d1d899-f51b-4379-8745-55c6a096c4f5",
   "metadata": {},
   "source": [
    "Question 30- Create a function in python to remove all words from a string of length between 2 and 4.\n",
    "The use of the re.compile() method is mandatory.\n",
    "Sample Text: \"The following example creates an ArrayList with a capacity of 50 elements. 4 elements are then added to the ArrayList and the ArrayList is trimmed accordingly.\"\n",
    "Expected Output:  following example creates ArrayList a capacity elements. 4 elements added ArrayList ArrayList trimmed accordingly.\n"
   ]
  },
  {
   "cell_type": "code",
   "execution_count": 228,
   "id": "94a43a39-0719-4149-a788-81c6ed35b487",
   "metadata": {},
   "outputs": [],
   "source": [
    "# not able to do it"
   ]
  },
  {
   "cell_type": "code",
   "execution_count": null,
   "id": "98c9c2d7-7f16-457a-87b4-d2ee491ee206",
   "metadata": {},
   "outputs": [],
   "source": []
  }
 ],
 "metadata": {
  "kernelspec": {
   "display_name": "Python 3 (ipykernel)",
   "language": "python",
   "name": "python3"
  },
  "language_info": {
   "codemirror_mode": {
    "name": "ipython",
    "version": 3
   },
   "file_extension": ".py",
   "mimetype": "text/x-python",
   "name": "python",
   "nbconvert_exporter": "python",
   "pygments_lexer": "ipython3",
   "version": "3.12.4"
  }
 },
 "nbformat": 4,
 "nbformat_minor": 5
}
