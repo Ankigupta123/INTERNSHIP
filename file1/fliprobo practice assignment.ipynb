{
 "cells": [
  {
   "cell_type": "raw",
   "id": "786e6347-24ec-4acf-a676-01d882dcd53a",
   "metadata": {},
   "source": [
    "Q1: Write a python program to scrape data for “Data Analyst” Job position in “Bangalore” location. \n",
    "You have to scrape the job-title, job-location, company_name, experience_required. You have to \n",
    "scrape first 10 jobs data. \n",
    "This task will be done in following steps: \n",
    "1. First get the webpage https://www.shine.com/ \n",
    "2. Enter “Data Analyst” in “Job title, Skills” field and enter “Bangalore” in “enter the location” field. \n",
    "3. Then click the searchbutton.  \n",
    "4. Then scrape the data for the first 10 jobs results you get.  \n",
    "5. Finally create a dataframe of the scraped data.  "
   ]
  },
  {
   "cell_type": "code",
   "execution_count": null,
   "id": "c25f38ab-7b92-49dc-9f01-f0ee0253d2a2",
   "metadata": {},
   "outputs": [],
   "source": [
    "import selenium\n",
    "import pandas as pd\n",
    "\n",
    "\n",
    "from selenium import webdriver\n",
    "from selenium.webdriver.chrome.options import Options\n",
    "import warnings\n",
    "warnings.filterwarnings('ignore')\n",
    "from selenium.webdriver.common.by import By\n",
    "from selenium.common.exceptions import WebDriverException\n",
    "import time\n"
   ]
  },
  {
   "cell_type": "code",
   "execution_count": null,
   "id": "5724e586-6381-4fb1-b9ff-3923e28bfeb4",
   "metadata": {},
   "outputs": [],
   "source": [
    "chrome_options = Options()\n",
    "\n",
    "chrome_options.add_argument(\"--disable-notifications\")  \n"
   ]
  },
  {
   "cell_type": "code",
   "execution_count": null,
   "id": "89686221-e360-42b9-99d0-2187b4c34dc7",
   "metadata": {},
   "outputs": [],
   "source": [
    "driver= webdriver.Chrome(options=chrome_options)"
   ]
  },
  {
   "cell_type": "code",
   "execution_count": null,
   "id": "f6ce095e-0d75-4437-b8a1-dce063aae88b",
   "metadata": {},
   "outputs": [],
   "source": [
    "driver.get(\"https://www.shine.com/\")"
   ]
  },
  {
   "cell_type": "code",
   "execution_count": null,
   "id": "5f8ceaad-ad13-4a00-bdaa-b7726e5f5032",
   "metadata": {},
   "outputs": [],
   "source": [
    "driver.implicitly_wait(10)"
   ]
  },
  {
   "cell_type": "code",
   "execution_count": null,
   "id": "2ec10b47-f61e-44ef-8ac8-3c101c595415",
   "metadata": {},
   "outputs": [],
   "source": [
    "title= driver.find_element(By.CLASS_NAME,'form-control  ')\n",
    "title.send_keys(\"Data Analyst\")"
   ]
  },
  {
   "cell_type": "code",
   "execution_count": null,
   "id": "5daa91d4-f99b-4c8d-88ea-744452d300f2",
   "metadata": {},
   "outputs": [],
   "source": [
    "location= driver.find_element(By.XPATH,\"/html/body/div/div[4]/div/div[2]/div[2]/div/form/div/div[1]/ul/li[2]/div/input\")\n",
    "location.send_keys(\"Bangalore\")"
   ]
  },
  {
   "cell_type": "code",
   "execution_count": null,
   "id": "df1c7a54-c753-45cf-a2f9-746f824b45f1",
   "metadata": {},
   "outputs": [],
   "source": [
    "SEARCH= driver.find_element(By.XPATH,\" /html/body/div/div[4]/div/div[2]/div[2]/div/form/div/div[2]/div/button\")\n",
    "SEARCH.click()"
   ]
  },
  {
   "cell_type": "code",
   "execution_count": null,
   "id": "b0b2ff4a-1b61-4de2-bbad-6d0d2697dde0",
   "metadata": {},
   "outputs": [],
   "source": [
    "job_title=[]\n",
    "job_location=[]\n",
    "company_name=[]\n",
    "experience_required=[]"
   ]
  },
  {
   "cell_type": "code",
   "execution_count": null,
   "id": "de3b2a11-430f-4c1c-88a4-5c9c5894f963",
   "metadata": {},
   "outputs": [],
   "source": [
    "title_tags = driver.find_elements(By.XPATH, \"//strong[@class='jobCard_pReplaceH2__xWmHg']\")\n",
    "\n",
    "for i in title_tags:\n",
    "    title = i.text\n",
    "    job_title.append(title)\n",
    "print(job_title)\n"
   ]
  },
  {
   "cell_type": "code",
   "execution_count": null,
   "id": "5a0e4402-83fd-4da6-b3b6-bea2600bc67c",
   "metadata": {},
   "outputs": [],
   "source": [
    "location_tags = driver.find_elements(By.XPATH, \"//div[@class='jobCard_jobCard_lists_item__YxRkV jobCard_locationIcon__zrWt2']\")\n",
    "  \n",
    "for i in location_tags:\n",
    "    location = i.text\n",
    "    job_location.append(location)\n",
    "print(job_location)"
   ]
  },
  {
   "cell_type": "code",
   "execution_count": null,
   "id": "cbbbb639-f0d7-4d43-b8b3-5a4963f27c7d",
   "metadata": {},
   "outputs": [],
   "source": [
    "company_tags = driver.find_elements(By.XPATH, \"//div[@class='jobCard_jobCard_cName__mYnow']\")\n",
    "  \n",
    "for i in company_tags:\n",
    "    company = i.text\n",
    "    company_name.append(company)\n",
    "print(company_name)"
   ]
  },
  {
   "cell_type": "code",
   "execution_count": null,
   "id": "0670b427-f95c-4a15-9fe6-3f4837881f10",
   "metadata": {},
   "outputs": [],
   "source": [
    "experience_tags = driver.find_elements(By.XPATH, \"//div[@class=' jobCard_jobCard_lists_item__YxRkV jobCard_jobIcon__3FB1t']\")\n",
    "  \n",
    "for i in experience_tags:\n",
    "   experience = i.text\n",
    "   experience_required.append(experience)\n",
    "print(experience_required)"
   ]
  },
  {
   "cell_type": "code",
   "execution_count": null,
   "id": "16014a4d-5786-4934-9210-9285e6431c9e",
   "metadata": {},
   "outputs": [],
   "source": [
    "top_10_jobs = job_title[:10]\n",
    "top_10_locations = job_location[:10]\n",
    "top_10_companies = company_name[:10]\n",
    "top_10_experiences = experience_required[:10]"
   ]
  },
  {
   "cell_type": "code",
   "execution_count": null,
   "id": "515ec7cd-ab3d-4741-97c4-490c4fb8e0f2",
   "metadata": {},
   "outputs": [],
   "source": [
    "df = pd.DataFrame({\n",
    "    'Jobs': top_10_jobs,\n",
    "    'Locations': top_10_locations,\n",
    "    'Companies': top_10_companies,\n",
    "    'Experiences': top_10_experiences\n",
    "})\n"
   ]
  },
  {
   "cell_type": "code",
   "execution_count": null,
   "id": "ec09fe82-5dc6-4c74-a615-4f7597f70054",
   "metadata": {},
   "outputs": [],
   "source": [
    "df"
   ]
  },
  {
   "cell_type": "code",
   "execution_count": null,
   "id": "8da041ed-4179-40fd-8b54-1ca0eb23c20e",
   "metadata": {},
   "outputs": [],
   "source": []
  },
  {
   "cell_type": "raw",
   "id": "74793929-475a-4377-af8b-624d38345f75",
   "metadata": {},
   "source": [
    "Q2: Write a python program to scrape data for ““Data Scientist” Job position in “Bangalore” location. \n",
    "You have to scrape the job-title, job-location, company_name, experience_required. You have to \n",
    "scrape first 10 jobs data. \n",
    "This task will be done in following steps: \n",
    "1. First get the webpage https://www.naukri.com/  \n",
    "2. Enter “Data Analyst” in “Job title, Skills” field and enter “Bangalore” in “enter the location” field. \n",
    "3. Then click the searchbutton.  \n",
    "4. Then scrape the data for the first 10 jobs results you get.  \n",
    "5. Finally create a dataframe of the scraped data.  "
   ]
  },
  {
   "cell_type": "code",
   "execution_count": null,
   "id": "dc3a4c14-9a27-4b22-8b6c-57fe4db161f8",
   "metadata": {},
   "outputs": [],
   "source": [
    "import selenium\n",
    "import pandas as pd\n",
    "\n",
    "\n",
    "from selenium import webdriver\n",
    "from selenium.webdriver.chrome.options import Options\n",
    "import warnings\n",
    "warnings.filterwarnings('ignore')\n",
    "from selenium.webdriver.common.by import By\n",
    "from selenium.common.exceptions import WebDriverException\n",
    "import time\n"
   ]
  },
  {
   "cell_type": "code",
   "execution_count": null,
   "id": "54966675-539e-4b0a-b79e-63554ca6b820",
   "metadata": {},
   "outputs": [],
   "source": [
    "chrome_options = Options()\n",
    "\n",
    "chrome_options.add_argument(\"--disable-notifications\") "
   ]
  },
  {
   "cell_type": "code",
   "execution_count": null,
   "id": "7e3d9d23-6088-4e06-b16d-3513f7036493",
   "metadata": {},
   "outputs": [],
   "source": [
    "driver= webdriver.Chrome(options=chrome_options)"
   ]
  },
  {
   "cell_type": "code",
   "execution_count": null,
   "id": "22b43071-e2a3-4576-819b-65fb591129fc",
   "metadata": {},
   "outputs": [],
   "source": [
    "driver.get(\"https://www.naukri.com/\")"
   ]
  },
  {
   "cell_type": "code",
   "execution_count": null,
   "id": "21899d56-407e-47b4-ab75-2cf9f2bab892",
   "metadata": {},
   "outputs": [],
   "source": [
    "driver.implicitly_wait(10)"
   ]
  },
  {
   "cell_type": "code",
   "execution_count": null,
   "id": "46d878f9-65ba-44b2-ad35-7aaf0d3c87e4",
   "metadata": {},
   "outputs": [],
   "source": [
    "title= driver.find_element(By.CLASS_NAME,'suggestor-input   ')\n",
    "title.send_keys(\"Data Analyst\")"
   ]
  },
  {
   "cell_type": "code",
   "execution_count": null,
   "id": "6e583896-e231-41b5-8017-c15bd3847f2b",
   "metadata": {},
   "outputs": [],
   "source": [
    "location= driver.find_element(By.XPATH,\"/html/body/div[1]/div[7]/div/div/div[5]/div/div/div/div[1]/div/input\")\n",
    "location.send_keys(\"Bangalore\")"
   ]
  },
  {
   "cell_type": "code",
   "execution_count": null,
   "id": "004af7df-50c0-48a4-afd7-ce869de8569a",
   "metadata": {},
   "outputs": [],
   "source": [
    "SEARCH= driver.find_element(By.CLASS_NAME,\"qsbSubmit\")\n",
    "SEARCH.click()"
   ]
  },
  {
   "cell_type": "code",
   "execution_count": null,
   "id": "37550a1b-2052-42b4-81d5-7bc08cbbd22c",
   "metadata": {},
   "outputs": [],
   "source": [
    "job_title=[]\n",
    "job_location=[]\n",
    "company_name=[]\n",
    "experience_required=[]"
   ]
  },
  {
   "cell_type": "code",
   "execution_count": null,
   "id": "9920f07e-0fc7-4024-ba02-bb3596eb9a52",
   "metadata": {},
   "outputs": [],
   "source": [
    "title_tags = driver.find_elements(By.XPATH, \"//a[@class='title ']\")\n",
    "\n",
    "for i in title_tags:\n",
    "    title = i.text\n",
    "    job_title.append(title)\n",
    "print(job_title)"
   ]
  },
  {
   "cell_type": "code",
   "execution_count": null,
   "id": "afde8726-b22c-48ae-b39d-706b34e259a3",
   "metadata": {},
   "outputs": [],
   "source": [
    "location_tags = driver.find_elements(By.XPATH, \"//span[@class='locWdth']\")\n",
    "  \n",
    "for i in location_tags:\n",
    "    location = i.text\n",
    "    job_location.append(location)\n",
    "print(job_location)"
   ]
  },
  {
   "cell_type": "code",
   "execution_count": null,
   "id": "383fe8b7-616f-4334-a37c-6b40fb93ffdd",
   "metadata": {},
   "outputs": [],
   "source": [
    "company_tags = driver.find_elements(By.XPATH, \"//a[@class=' comp-name mw-25']\")\n",
    "  \n",
    "for i in company_tags:\n",
    "    company = i.text\n",
    "    company_name.append(company)\n",
    "print(company_name)"
   ]
  },
  {
   "cell_type": "code",
   "execution_count": null,
   "id": "20991837-5dcc-4cc1-904b-e4601d0a6577",
   "metadata": {},
   "outputs": [],
   "source": [
    "experience_tags = driver.find_elements(By.XPATH, \"//span[@class='expwdth']\")\n",
    "  \n",
    "for i in experience_tags:\n",
    "   experience = i.text\n",
    "   experience_required.append(experience)\n",
    "print(experience_required)"
   ]
  },
  {
   "cell_type": "code",
   "execution_count": null,
   "id": "7413ec63-80b7-42fa-ae61-2cacb4c65ec2",
   "metadata": {},
   "outputs": [],
   "source": [
    "top_10_jobs = job_title[:10]\n",
    "top_10_locations = job_location[:10]\n",
    "top_10_companies = company_name[:10]\n",
    "top_10_experiences = experience_required[:10]"
   ]
  },
  {
   "cell_type": "code",
   "execution_count": null,
   "id": "1d79bf44-bc89-43d5-91da-2f6990cfc05f",
   "metadata": {},
   "outputs": [],
   "source": [
    "df = pd.DataFrame({\n",
    "    'Jobs': top_10_jobs,\n",
    "    'Locations': top_10_locations,\n",
    "    'Companies': top_10_companies,\n",
    "    'Experiences': top_10_experiences\n",
    "})\n"
   ]
  },
  {
   "cell_type": "code",
   "execution_count": null,
   "id": "858e84d9-01fe-4c53-992c-9f42fc527cbf",
   "metadata": {},
   "outputs": [],
   "source": [
    "df"
   ]
  },
  {
   "cell_type": "code",
   "execution_count": null,
   "id": "468f9e81-fba9-4180-8c96-f2ffe3686afe",
   "metadata": {},
   "outputs": [],
   "source": []
  },
  {
   "cell_type": "code",
   "execution_count": null,
   "id": "7387698a-a8f4-4731-b086-ae610bcd3d1b",
   "metadata": {},
   "outputs": [],
   "source": []
  },
  {
   "cell_type": "markdown",
   "id": "f4060407-ee47-4812-95ec-5a952387d738",
   "metadata": {},
   "source": [
    "Q3: Scrape data of first 100 sunglasses listings on flipkart.com. You have to scrape four attributes: \n",
    "1. Brand  \n",
    "2. ProductDescription  \n",
    "3. Price  \n",
    "The attributes which you have to scrape is ticked marked in the below image. \n",
    "To scrape the data you have to go through following steps:  \n",
    "1. Go to Flipkart webpage by url : https://www.flipkart.com/  \n",
    "2. Enter “sunglasses” in the search fieldwhere “search for products, brands and more” is written and \n",
    "click the search icon  \n",
    "3. After that you will reach to the page having a lot of sunglasses. From this page you can scrap the \n",
    "required data as usual. \n",
    "4. After scraping data from the first page, go to the “Next” Button at the bottom other page , then \n",
    "click on it.  \n",
    "5. Now scrape data from this page as usual  \n",
    "6. Repeat this until you get data for 100sunglasses. Note: That all of the above steps have to be done \n",
    "by coding only and not manually. \n",
    "Note: That all of the above steps have to be done by coding only and not manually."
   ]
  },
  {
   "cell_type": "code",
   "execution_count": null,
   "id": "3474110e-48e1-48bf-bd3d-a932023d742c",
   "metadata": {},
   "outputs": [],
   "source": [
    "import selenium\n",
    "import pandas as pd\n",
    "\n",
    "\n",
    "from selenium import webdriver\n",
    "import warnings\n",
    "warnings.filterwarnings('ignore')\n",
    "from selenium.webdriver.common.by import By\n",
    "from selenium.common.exceptions import WebDriverException\n",
    "import time"
   ]
  },
  {
   "cell_type": "code",
   "execution_count": null,
   "id": "e596bb1f-2ff9-4500-8c4c-2a5bcc270722",
   "metadata": {},
   "outputs": [],
   "source": [
    "driver= webdriver.Chrome()"
   ]
  },
  {
   "cell_type": "code",
   "execution_count": null,
   "id": "1ec812b7-e6be-4e33-8d14-22fd6e2336b7",
   "metadata": {},
   "outputs": [],
   "source": [
    "driver.get(\"https://www.flipkart.com/\")"
   ]
  },
  {
   "cell_type": "code",
   "execution_count": null,
   "id": "69d5ef2d-f8ad-4cf4-9de6-574947f80378",
   "metadata": {},
   "outputs": [],
   "source": [
    "product= driver.find_element(By.CLASS_NAME,'Pke_EE')\n",
    "product.send_keys(\"Sunglasses\")"
   ]
  },
  {
   "cell_type": "code",
   "execution_count": null,
   "id": "d570a98b-b496-4d89-bcac-bd0c646d9d98",
   "metadata": {},
   "outputs": [],
   "source": [
    "driver.implicitly_wait(10)"
   ]
  },
  {
   "cell_type": "code",
   "execution_count": null,
   "id": "7b121ad6-d6ca-4095-91bf-00201f43f50f",
   "metadata": {},
   "outputs": [],
   "source": [
    "SEARCH= driver.find_element(By.CLASS_NAME,'_2iLD__')\n",
    "SEARCH.click()"
   ]
  },
  {
   "cell_type": "markdown",
   "id": "ee5bbee3-44e3-4899-92c7-a4bec1e122f3",
   "metadata": {},
   "source": [
    "### Since next button was not working..therefore I use close pop up"
   ]
  },
  {
   "cell_type": "code",
   "execution_count": null,
   "id": "c73685ba-24a7-4198-b56e-c6cf380d2508",
   "metadata": {},
   "outputs": [],
   "source": [
    " brand_names=[]\n",
    "product_description=[]\n",
    "price=[]"
   ]
  },
  {
   "cell_type": "code",
   "execution_count": null,
   "id": "312df9ae-a6b3-4893-9240-e15fd15b2277",
   "metadata": {},
   "outputs": [],
   "source": [
    "start=0\n",
    "end=3\n",
    "for page in range(start,end):\n",
    "    titles=driver.find_elements(By.XPATH, \"//div[@class='syl9yP']\")\n",
    "    for i in titles:\n",
    "        brand_names.append(i.text)\n",
    "    next_button=driver.find_element(By.CLASS_NAME, \"_9QVEpD\")\n",
    "    try:\n",
    "     close_popup = driver.find_element(By.XPATH, \"//button[contains(text(), '✕')]\")\n",
    "     close_popup.click()\n",
    "    except:\n",
    "      pass \n",
    "    "
   ]
  },
  {
   "cell_type": "code",
   "execution_count": null,
   "id": "01cd0e62-485b-4914-877e-3ef6d66b3408",
   "metadata": {},
   "outputs": [],
   "source": [
    "print(brand_names)\n",
    "len(brand_names)"
   ]
  },
  {
   "cell_type": "raw",
   "id": "c8898ac6-b915-406a-8676-1e2f47323552",
   "metadata": {},
   "source": [
    "start=0\n",
    "end=3\n",
    "for page in range(start,end):\n",
    "    titles=driver.find_elements(By.XPATH, \"//a[@class='WKTcLC BwBZTg']\")\n",
    "    if titles:\n",
    "        for i in titles:\n",
    "            product_description.append(i.text if i.text else 'N/A')\n",
    "    else:\n",
    "        product_description.append('N/A') #for null values\n",
    "    next_button=driver.find_element(By.CLASS_NAME, \"_9QVEpD\")\n",
    "    try:\n",
    "     close_popup = driver.find_element(By.XPATH, \"//button[contains(text(), '✕')]\")\n",
    "     close_popup.click()\n",
    "    except:\n",
    "      pass "
   ]
  },
  {
   "cell_type": "code",
   "execution_count": null,
   "id": "fb7af6f7-8810-486e-963d-e1323ab6e69d",
   "metadata": {},
   "outputs": [],
   "source": [
    "start=0\n",
    "end=3\n",
    "for page in range(start,end):\n",
    "    description_element = driver.find_elements(By.XPATH, \"//a[@class='WKTcLC BwBZTg']\")\n",
    "    if description_element:\n",
    "        for description in description_element:\n",
    "            product_description.append(description.text if description.text else 'N/A')\n",
    "    else:\n",
    "        product_description.append('N/A') "
   ]
  },
  {
   "cell_type": "code",
   "execution_count": null,
   "id": "9f3c2ec2-d5a9-490f-8870-726962f87e85",
   "metadata": {},
   "outputs": [],
   "source": [
    "print( product_description)\n",
    "len( product_description)"
   ]
  },
  {
   "cell_type": "code",
   "execution_count": null,
   "id": "2eb46d34-1088-4263-b825-2b3ca50ebe67",
   "metadata": {},
   "outputs": [],
   "source": []
  },
  {
   "cell_type": "code",
   "execution_count": null,
   "id": "6435d796-a896-44fa-8dd9-087b7646123a",
   "metadata": {},
   "outputs": [],
   "source": [
    "start=0\n",
    "end=3\n",
    "for page in range(start,end):\n",
    "    titles=driver.find_elements(By.XPATH, \"//div[@class='Nx9bqj']\")\n",
    "    for i in titles:\n",
    "        price.append(i.text)\n",
    "    next_button=driver.find_element(By.CLASS_NAME, \"_9QVEpD\")\n",
    "    try:\n",
    "     close_popup = driver.find_element(By.XPATH, \"//button[contains(text(), '✕')]\")\n",
    "     close_popup.click()\n",
    "    except:\n",
    "      pass \n",
    "    "
   ]
  },
  {
   "cell_type": "code",
   "execution_count": null,
   "id": "512eda76-3465-4b13-9331-ab07e7a675ce",
   "metadata": {},
   "outputs": [],
   "source": [
    "print( price)\n",
    "len( price)"
   ]
  },
  {
   "cell_type": "code",
   "execution_count": null,
   "id": "7e2f5067-da84-4275-8d6f-b12d2361d142",
   "metadata": {},
   "outputs": [],
   "source": [
    "top_100_brands = brand_names[:100]\n",
    "top_100_descriptions = product_description[:100]\n",
    "top_100_price = price[:100]"
   ]
  },
  {
   "cell_type": "code",
   "execution_count": null,
   "id": "f20903a7-f28b-4126-97ec-399a49af30f2",
   "metadata": {},
   "outputs": [],
   "source": [
    "df = pd.DataFrame({\n",
    "    'Brands': top_100_brands,\n",
    "    'Product_Descriptions': top_100_descriptions,\n",
    "    'Price': top_10_price\n",
    "    \n",
    "})\n"
   ]
  },
  {
   "cell_type": "code",
   "execution_count": null,
   "id": "8a886a56-c4b6-4072-9086-6efce0443404",
   "metadata": {},
   "outputs": [],
   "source": [
    "df"
   ]
  }
 ],
 "metadata": {
  "kernelspec": {
   "display_name": "Python 3 (ipykernel)",
   "language": "python",
   "name": "python3"
  },
  "language_info": {
   "codemirror_mode": {
    "name": "ipython",
    "version": 3
   },
   "file_extension": ".py",
   "mimetype": "text/x-python",
   "name": "python",
   "nbconvert_exporter": "python",
   "pygments_lexer": "ipython3",
   "version": "3.12.4"
  }
 },
 "nbformat": 4,
 "nbformat_minor": 5
}
