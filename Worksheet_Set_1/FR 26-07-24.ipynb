{
 "cells": [
  {
   "cell_type": "code",
   "execution_count": 7,
   "id": "17e06cee",
   "metadata": {},
   "outputs": [
    {
     "name": "stdout",
     "output_type": "stream",
     "text": [
      "Enter a number to find its factorial: 10\n",
      "The factorial of 10 is 3628800\n"
     ]
    }
   ],
   "source": [
    "#factorial of a number\n",
    "def factorial(n):\n",
    "    if n == 0:\n",
    "        return 1\n",
    "    else:\n",
    "        return n * factorial(n - 1)\n",
    "\n",
    "# Take user input\n",
    "number = int(input(\"Enter a number to find its factorial: \"))\n",
    "print(f\"The factorial of {number} is {factorial(number)}\")"
   ]
  },
  {
   "cell_type": "code",
   "execution_count": 9,
   "id": "f69fd05f",
   "metadata": {},
   "outputs": [
    {
     "name": "stdout",
     "output_type": "stream",
     "text": [
      "Enter a number to check if it is prime or composite: 5\n",
      "5 is a prime number\n"
     ]
    }
   ],
   "source": [
    "#prime number or composite number\n",
    "\n",
    "def is_prime(n):\n",
    "    if n <= 1:\n",
    "        return False\n",
    "    for i in range(2, int(n ** 0.5) + 1):\n",
    "        if n % i == 0:\n",
    "            return False\n",
    "    return True\n",
    "\n",
    "# Take user input\n",
    "number = int(input(\"Enter a number to check if it is prime or composite: \"))\n",
    "if is_prime(number):\n",
    "    print(f\"{number} is a prime number\")\n",
    "else:\n",
    "    print(f\"{number} is a composite number\")"
   ]
  },
  {
   "cell_type": "code",
   "execution_count": 10,
   "id": "6b4d5e60",
   "metadata": {},
   "outputs": [
    {
     "name": "stdout",
     "output_type": "stream",
     "text": [
      "Enter a string to check if it is a palindrome: naman\n",
      "'naman' is a palindrome\n"
     ]
    }
   ],
   "source": [
    "#palindrome  or not\n",
    "def is_palindrome(s):\n",
    "    return s == s[::-1]\n",
    "\n",
    "# Take user input\n",
    "string = input(\"Enter a string to check if it is a palindrome: \")\n",
    "if is_palindrome(string):\n",
    "    print(f\"'{string}' is a palindrome\")\n",
    "else:\n",
    "    print(f\"'{string}' is not a palindrome\")"
   ]
  },
  {
   "cell_type": "code",
   "execution_count": null,
   "id": "62e379b5",
   "metadata": {},
   "outputs": [],
   "source": [
    "#a right angled triangle\n",
    "def find_third_side(a, b, hypotenuse=True):\n",
    "    if hypotenuse:\n",
    "        return (a ** 2 + b ** 2) ** 0.5\n",
    "    else:\n",
    "        return (a ** 2 - b ** 2) ** 0.5\n",
    "\n",
    "# Take user input\n",
    "side1 = float(input(\"Enter the length of the first side: \"))\n",
    "side2 = float(input(\"Enter the length of the second side: \"))\n",
    "hypotenuse = input(\"Is the third side the hypotenuse? (yes/no): \").strip().lower() == 'yes'\n",
    "\n",
    "third_side = find_third_side(side1, side2, hypotenuse)\n",
    "if hypotenuse:\n",
    "    print(f\"The hypotenuse is {third_side}\")\n",
    "else:\n",
    "    print(f\"The third side is {third_side}\")"
   ]
  },
  {
   "cell_type": "code",
   "execution_count": null,
   "id": "f84c10ea",
   "metadata": {},
   "outputs": [],
   "source": [
    "#charcter frequencies\n",
    "def char_frequency(s):\n",
    "    freq = {}\n",
    "    for char in s:\n",
    "        if char in freq:\n",
    "            freq[char] += 1\n",
    "        else:\n",
    "            freq[char] = 1\n",
    "    return freq\n",
    "\n",
    "# Take user input\n",
    "string = input(\"Enter a string to calculate character frequencies: \")\n",
    "frequency = char_frequency(string)\n",
    "print(f\"Character frequencies in '{string}': {frequency}\")"
   ]
  },
  {
   "cell_type": "code",
   "execution_count": null,
   "id": "c2433e17",
   "metadata": {},
   "outputs": [],
   "source": [
    "def char_frequency(s):\n",
    "    freq = {}\n",
    "    for char in s:\n",
    "        if char in freq:\n",
    "            freq[char] += 1\n",
    "        else:\n",
    "            freq[char] = 1\n",
    "    return freq\n",
    "\n",
    "# Take user input\n",
    "string = input(\"Enter a string to calculate character frequencies: \")\n",
    "frequency = char_frequency(string)\n",
    "print(f\"Character frequencies in '{string}':\")\n",
    "\n",
    "for char, count in frequency.items():\n",
    "    print(f\"'{char}': {count}\")"
   ]
  },
  {
   "cell_type": "code",
   "execution_count": null,
   "id": "caf4eaf2",
   "metadata": {},
   "outputs": [],
   "source": []
  }
 ],
 "metadata": {
  "kernelspec": {
   "display_name": "Python 3 (ipykernel)",
   "language": "python",
   "name": "python3"
  },
  "language_info": {
   "codemirror_mode": {
    "name": "ipython",
    "version": 3
   },
   "file_extension": ".py",
   "mimetype": "text/x-python",
   "name": "python",
   "nbconvert_exporter": "python",
   "pygments_lexer": "ipython3",
   "version": "3.11.5"
  }
 },
 "nbformat": 4,
 "nbformat_minor": 5
}
